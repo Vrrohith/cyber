{
  "nbformat": 4,
  "nbformat_minor": 0,
  "metadata": {
    "colab": {
      "provenance": [],
      "authorship_tag": "ABX9TyNRSNCF1UkOiXBCI5IqbI0I",
      "include_colab_link": true
    },
    "kernelspec": {
      "name": "python3",
      "display_name": "Python 3"
    },
    "language_info": {
      "name": "python"
    }
  },
  "cells": [
    {
      "cell_type": "markdown",
      "metadata": {
        "id": "view-in-github",
        "colab_type": "text"
      },
      "source": [
        "<a href=\"https://colab.research.google.com/github/Vrrohith/cyber/blob/main/Untitled7.ipynb\" target=\"_parent\"><img src=\"https://colab.research.google.com/assets/colab-badge.svg\" alt=\"Open In Colab\"/></a>"
      ]
    },
    {
      "cell_type": "markdown",
      "source": [
        "**Vigenere cipher**\n",
        "\n",
        "*Definition:*\n",
        "Vigenere cipher was invented by the French cryptographer Blaise de Vigenère. It is a symmetric cipher since it use same key for both encryption and decryption. Vigenere cipher is a example of poly alphabetic substitution cipher\n",
        "\n",
        "*working:*\n",
        "1)Input message (plaintext) and key.\n",
        "2)Repeat the key until it matches the length of the text.\n",
        "3)Convert each character of the message to its ASCII value and store it in a list.\n",
        "4)Convert each character of the key to its ASCII value and store it in another list.\n",
        "5)Encrypt each character of the message by adding the corresponding key value to the ASCII value of the message character and wrapping around if necessary.\n",
        "6)Decrypt the encrypted message by subtracting the corresponding key value from the ASCII value of each encrypted character, again wrapping around if necessary.\n",
        "\n",
        "\n",
        "\n",
        "\n",
        "\n",
        "\n"
      ],
      "metadata": {
        "id": "sd0kyFp3z6Q8"
      }
    },
    {
      "cell_type": "markdown",
      "source": [
        "\\"
      ],
      "metadata": {
        "id": "tMK6XhvV0ocl"
      }
    },
    {
      "cell_type": "code",
      "source": [
        "#vigenere cipher\n",
        "\n",
        "t=input(\"Enter The Message: \")\n",
        "a=[]\n",
        "for i in range(len(t)):\n",
        "    b=t[i]\n",
        "    a.append(ord(b))\n",
        "\n",
        "key=\"key\"\n",
        "k=[]\n",
        "for i in range(len(key)):\n",
        "    b=key[i]\n",
        "    k.append(ord(b))\n",
        "\n",
        "l2=len(t)\n",
        "l1=len(key)\n",
        "i=0\n",
        "while l1<l2:\n",
        "    b=k[i]\n",
        "    k.append(b)\n",
        "    l1=l1+1\n",
        "    i=i+1\n",
        "\n",
        "c=[]\n",
        "for i in range(l1):\n",
        "    b= a[i]+k[i]\n",
        "    while b>122:\n",
        "        diff=b-122\n",
        "        b=96+diff\n",
        "    c.append(chr(b))\n",
        "encrypt=\"\".join(str(i) for i in c)\n",
        "print(\"encryption:\",encrypt)\n",
        "\n",
        "d=[]\n",
        "for i in range(l1):\n",
        "    b= ord(c[i])-k[i]\n",
        "    while b<97:\n",
        "        diff=97-b\n",
        "        b=123-diff\n",
        "    d.append(chr(b))\n",
        "decrypt=\"\".join(str(i) for i in d)\n",
        "print(\"decryption:\",decrypt)"
      ],
      "metadata": {
        "colab": {
          "base_uri": "https://localhost:8080/"
        },
        "id": "SwEaVZvoz_u6",
        "outputId": "ea092a7f-c928-490d-c9a8-8b1c79b3c885"
      },
      "execution_count": 4,
      "outputs": [
        {
          "output_type": "stream",
          "name": "stdout",
          "text": [
            "Enter The Message: hello\n",
            "encryption: kbcol\n",
            "decryption: hello\n"
          ]
        }
      ]
    },
    {
      "cell_type": "markdown",
      "source": [
        "**Ceaser Cipher**\n",
        "\n",
        "*definition*\n",
        "The Caesar Cipher is one of the simplest and oldest substitution ciphers, named after Julius Caesar. It is done by shifting each alphabet by fixed number\n",
        "\n",
        "*working*\n",
        "1)Input plaintext message and the number of positions to shift.\n",
        "2)Encrypt the plaintext message by shifting each character by the specified number of positions.\n",
        "3)Output the encrypted message.\n",
        "4)Decrypt the encrypted message by shifting each character back by the same number of positions.\n",
        "5)Output the decrypted message."
      ],
      "metadata": {
        "id": "j9co-FlnLWSz"
      }
    },
    {
      "cell_type": "code",
      "source": [
        "\n",
        "#Caesar cipher\n",
        "\n",
        "p=input(\"Enter meassage\")\n",
        "l=[]\n",
        "for i in p:\n",
        "    l.append(ord(i))\n",
        "\n",
        "n=int(input(\"Number to be shifted\"))\n",
        "list1=[]\n",
        "for i in range(len(l)):\n",
        "    new=l[i]+n\n",
        "    if new>122:\n",
        "        diff=new-122\n",
        "        new=96+diff\n",
        "    list1.append(chr(new))\n",
        "list1f=\"\".join(str(i) for i in list1)\n",
        "print(\"Encryption:\",list1f)\n",
        "\n",
        "\n",
        "list2=[]\n",
        "for i in range(len(list1)):\n",
        "    list2.append(ord(list1[i]))\n",
        "\n",
        "list3=[]\n",
        "for i in range(len(list2)):\n",
        "    new1=list2[i]-n\n",
        "    if new1<97:\n",
        "        diff1=97-new1\n",
        "        new1=123-diff1\n",
        "    list3.append(chr(new1))\n",
        "list2f=\"\".join(str(i) for i in list3)\n",
        "print(\"Decryption:\",list2f)\n"
      ],
      "metadata": {
        "colab": {
          "base_uri": "https://localhost:8080/"
        },
        "id": "uhDphfyBO6cO",
        "outputId": "24e3382a-9a7e-4ac3-8b56-bcbe63ad5bc8"
      },
      "execution_count": 2,
      "outputs": [
        {
          "output_type": "stream",
          "name": "stdout",
          "text": [
            "Enter meassagehello\n",
            "Number to be shifted3\n",
            "Encryption: khoor\n",
            "Decryption: hello\n"
          ]
        }
      ]
    },
    {
      "cell_type": "markdown",
      "source": [
        "**RSA**\n",
        "*definition*\n",
        "\n",
        "RSA is widely used asymmetric encryption algorithm for secure communication and digital signatures.\n",
        "\n",
        "*working*\n",
        "\n",
        "1.Key Generation:\n",
        "Imagine you have two big numbers that are secret (private keys), and you multiply them together to get an even bigger number (public key).The public key is used to lock messages, and the private keys are used to unlock them.\n",
        "\n",
        "2.Encryption:\n",
        "If you want to send a secret message to someone, you use their public key to lock it.You take your message, turn it into numbers, and do some math with the public key.The result is a scrambled version of your message that only the person with the private key can unscramble.\n",
        "\n",
        "3.Decryption:\n",
        "The person with the private key receives the scrambled message and uses their private key to unscramble it.They do some more math with their private key, and voila! They get back the original message.\n",
        "\n",
        "\n",
        "\n"
      ],
      "metadata": {
        "id": "oyBTXiL8QY44"
      }
    },
    {
      "cell_type": "code",
      "source": [
        "import random\n",
        "\n",
        "def gcd(a, b):\n",
        "    while b != 0:\n",
        "        a, b = b, a % b\n",
        "    return a\n",
        "\n",
        "def mod_inverse(a, m):\n",
        "    m0, x0, x1 = m, 0, 1\n",
        "    while a > 1:\n",
        "        q = a // m\n",
        "        m, a = a % m, m\n",
        "        x0, x1 = x1 - q * x0, x0\n",
        "    return x1 + m0 if x1 < 0 else x1\n",
        "\n",
        "def is_prime(n, k=5):\n",
        "    if n <= 1:\n",
        "        return False\n",
        "    if n <= 3:\n",
        "        return True\n",
        "    for _ in range(k):\n",
        "        a = random.randint(2, n - 1)\n",
        "        if gcd(n, a) != 1:\n",
        "            return False\n",
        "        if pow(a, n - 1, n) != 1:\n",
        "            return False\n",
        "    return True\n",
        "\n",
        "def generate_keypair(p, q):\n",
        "    if not (is_prime(p) and is_prime(q)):\n",
        "        raise ValueError(\"Both numbers must be prime.\")\n",
        "    n = p * q\n",
        "    phi = (p - 1) * (q - 1)\n",
        "    e = random.randrange(1, phi)\n",
        "    while gcd(e, phi) != 1:\n",
        "        e = random.randrange(1, phi)\n",
        "    d = mod_inverse(e, phi)\n",
        "    return ((e, n), (d, n))\n",
        "\n",
        "def encrypt(public_key, plaintext):\n",
        "    e, n = public_key\n",
        "    ciphertext = [pow(ord(char), e, n) for char in plaintext]\n",
        "    return ciphertext\n",
        "\n",
        "def decrypt(private_key, ciphertext):\n",
        "    d, n = private_key\n",
        "    plaintext = ''.join([chr(pow(char, d, n)) for char in ciphertext])\n",
        "    return plaintext\n",
        "\n",
        "p = int(input(\"Enter the value of p (Prime Number):\"))\n",
        "q = int(input(\"Enter the value of q (Prime Number):\"))\n",
        "public_key, private_key = generate_keypair(p, q)\n",
        "print(\"Public Key:\", public_key)\n",
        "print(\"Private Key:\", private_key)\n",
        "\n",
        "plaintext = input(\"Enter the plaintext:\")\n",
        "encrypted = encrypt(public_key, plaintext)\n",
        "print(\"Encrypted:\", encrypted)\n",
        "\n",
        "decrypted = decrypt(private_key, encrypted)\n",
        "print(\"Decrypted:\", decrypted)\n"
      ],
      "metadata": {
        "colab": {
          "base_uri": "https://localhost:8080/"
        },
        "id": "kPM1Cam7SSdo",
        "outputId": "f4cf696e-1d99-404e-c6c1-d23f03cf3c11"
      },
      "execution_count": 3,
      "outputs": [
        {
          "output_type": "stream",
          "name": "stdout",
          "text": [
            "Enter the value of p (Prime Number):5\n",
            "Enter the value of q (Prime Number):7\n",
            "Public Key: (17, 35)\n",
            "Private Key: (17, 35)\n",
            "Enter the plaintext:hello\n",
            "Encrypted: [34, 26, 33, 33, 6]\n",
            "Decrypted: \"\u001f\u0003\u0003\u0006\n"
          ]
        }
      ]
    },
    {
      "cell_type": "markdown",
      "source": [],
      "metadata": {
        "id": "k4wjeHMuSmTC"
      }
    },
    {
      "cell_type": "markdown",
      "source": [
        "**ElGamal Encryption Algorithm**\n",
        "\n",
        "1:Getting Keys:\n",
        "First, you and your friend each get two keys: a public key and a private key. Your private key is your own secret, while your public key can be shared with anyone.\n",
        "2: Sending a Secret Message:\n",
        "When you want to send a secret message to your friend:You put your message in a box and lock it with a special lock that only your friend can open.You also put a tag on the box that helps your friend find the right key to unlock it.\n",
        "3: Unlocking the Message:\n",
        "Your friend receives the locked box and looks at the tag to find the right key.\n",
        "Using their private key, they unlock the box and read your message."
      ],
      "metadata": {
        "id": "ni6HBovIUpn9"
      }
    },
    {
      "cell_type": "code",
      "source": [
        "import random\n",
        "\n",
        "def gcd(a, b):\n",
        "    if a < b:\n",
        "        return gcd(b, a)\n",
        "    elif a % b == 0:\n",
        "        return b\n",
        "    else:\n",
        "        return gcd(b, a % b)\n",
        "\n",
        "def gen_key(q):\n",
        "    key = random.randint(pow(10, 20), q)\n",
        "    while gcd(q, key) != 1:\n",
        "        key = random.randint(pow(10, 20), q)\n",
        "    return key\n",
        "\n",
        "def power(a, b, c):\n",
        "    x = 1\n",
        "    y = a\n",
        "    while b > 0:\n",
        "        if b % 2 != 0:\n",
        "            x = (x * y) % c\n",
        "        y = (y * y) % c\n",
        "        b = int(b / 2)\n",
        "    return x % c\n",
        "\n",
        "def encrypt(msg, q, h, g):\n",
        "    en_msg = []\n",
        "    k = gen_key(q)  # Private key for sender\n",
        "    s = power(h, k, q)\n",
        "    p = power(g, k, q)\n",
        "    for i in range(len(msg)):\n",
        "        en_msg.append(msg[i])\n",
        "    for i in range(len(en_msg)):\n",
        "        en_msg[i] = s * ord(en_msg[i])\n",
        "    return en_msg, p\n",
        "\n",
        "def decrypt(en_msg, p, key, q):\n",
        "    dr_msg = []\n",
        "    h = power(p, key, q)\n",
        "    for i in range(len(en_msg)):\n",
        "        dr_msg.append(chr(int(en_msg[i] / h)))\n",
        "    return dr_msg\n",
        "\n",
        "def main():\n",
        "    msg = input(\"Enter the plaintext:\")\n",
        "    print(\"Original Message:\", msg)\n",
        "    q = random.randint(pow(10, 20), pow(10, 50))\n",
        "    g = random.randint(2, q)\n",
        "    key = gen_key(q)  # Private key for receiver\n",
        "    h = power(g, key, q)\n",
        "    print(\"g(cyclic group):\", g)\n",
        "    print(\"g^a :\", h)\n",
        "    en_msg, p = encrypt(msg, q, h, g)\n",
        "    dr_msg = decrypt(en_msg, p, key, q)\n",
        "    dmsg = ''.join(dr_msg)\n",
        "    print(\"Decrypted Message:\", dmsg)\n",
        "\n",
        "if __name__ == '__main__':\n",
        "    main()\n"
      ],
      "metadata": {
        "colab": {
          "base_uri": "https://localhost:8080/"
        },
        "id": "xIiCi5y6VD6F",
        "outputId": "b8b1bc2d-42be-4e15-c3cf-7627c9cc7e14"
      },
      "execution_count": 6,
      "outputs": [
        {
          "output_type": "stream",
          "name": "stdout",
          "text": [
            "Enter the plaintext:hello\n",
            "Original Message: hello\n",
            "g(cyclic group): 67085717184393039172634358994577566676100899736570\n",
            "g^a : 63011995064226975317022572708649743741218557229647\n",
            "Decrypted Message: hello\n"
          ]
        }
      ]
    },
    {
      "cell_type": "markdown",
      "source": [
        "\n",
        "**Hash function**\n",
        "\n",
        "1: Making the Secret Code:\n",
        "You give SHA-256 a message, like \"Hello, World!\".SHA-256 then performs some special math on the message to create a unique secret code.\n",
        "2: Special Math:\n",
        "SHA-256 breaks down the message into tiny pieces and mixes them up in a special way.\n",
        "It's like jumbling up letters in a word, but in a really complicated way that nobody can un-jumble.\n",
        "3: Creating the Code:\n",
        "After doing its special math, SHA-256 spits out a secret code.\n",
        "This code is a fixed size and looks like a long string of letters and numbers.\n",
        "4: Unique Codes:\n",
        "Even if you change just one tiny thing in the message, like adding a single letter, the secret code will completely change.\n",
        "This means each message has its very own unique secret code."
      ],
      "metadata": {
        "id": "TkxG8EUGVjXs"
      }
    },
    {
      "cell_type": "code",
      "source": [
        "import hashlib\n",
        "\n",
        "def compute_hash(input_string):\n",
        "\n",
        "    input_bytes = input_string.encode('utf-8')\n",
        "    hash_result = hashlib.sha256(input_bytes).hexdigest()\n",
        "    return hash_result\n",
        "\n",
        "input_string =input(\"Enter the message:\")\n",
        "hash_result = compute_hash(input_string)\n",
        "print(\"Hash of '{}' is: {}\".format(input_string, hash_result))"
      ],
      "metadata": {
        "colab": {
          "base_uri": "https://localhost:8080/"
        },
        "id": "cpC854zSV492",
        "outputId": "5cb99aa0-997d-45d0-f922-526a6702c97a"
      },
      "execution_count": 8,
      "outputs": [
        {
          "output_type": "stream",
          "name": "stdout",
          "text": [
            "Enter the message:hello\n",
            "Hash of 'hello' is: 2cf24dba5fb0a30e26e83b2ac5b9e29e1b161e5c1fa7425e73043362938b9824\n"
          ]
        }
      ]
    }
  ]
}